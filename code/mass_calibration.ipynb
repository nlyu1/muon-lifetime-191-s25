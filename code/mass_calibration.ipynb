{
 "cells": [
  {
   "cell_type": "code",
   "execution_count": 3,
   "metadata": {},
   "outputs": [],
   "source": [
    "import numpy as np\n",
    "import matplotlib.pyplot as plt\n",
    "import pandas as pd"
   ]
  },
  {
   "cell_type": "code",
   "execution_count": 44,
   "metadata": {},
   "outputs": [],
   "source": [
    "def read_data(file_paths):\n",
    "    \"\"\"\n",
    "    Read data from multiple files and concatenate durations.\n",
    "    \n",
    "    Args:\n",
    "        file_paths: List of file paths to read data from\n",
    "        \n",
    "    Returns:\n",
    "        durations: Concatenated array of duration values\n",
    "    \"\"\"\n",
    "    all_durations = []\n",
    "    \n",
    "    for file_path in file_paths:\n",
    "        data = pd.read_csv(file_path, sep='\\t', header=None, names=['timestamps', 'durations'])\n",
    "        all_durations.append(data['durations'].values)\n",
    "    \n",
    "    return np.concatenate(all_durations)\n",
    "\n",
    "def FreedmanDiaconis_bins(data):\n",
    "    # Compute IQR\n",
    "    Q1 = np.percentile(data, 25)\n",
    "    Q3 = np.percentile(data, 75)\n",
    "    IQR = Q3 - Q1\n",
    "\n",
    "    # Freedman–Diaconis bin width\n",
    "    n = len(data)\n",
    "    bin_width = 2 * IQR / (n ** (1/3))\n",
    "\n",
    "    # Number of bins\n",
    "    num_bins = int((data.max() - data.min()) / bin_width)\n",
    "    num_bins = max(num_bins, 1)  # ensure at least 1 bin\n",
    "\n",
    "    print(f\"Computed bin width: {bin_width:.3f}\")\n",
    "    print(f\"Number of bins: {num_bins}\")\n",
    "\n",
    "    return num_bins"
   ]
  },
  {
   "cell_type": "code",
   "execution_count": 54,
   "metadata": {},
   "outputs": [
    {
     "name": "stdout",
     "output_type": "stream",
     "text": [
      "Computed bin width: 0.010\n",
      "Number of bins: 263\n",
      "(69532,)\n"
     ]
    },
    {
     "data": {
      "image/png": "[encoded data removed]",
      "text/plain": [
       "<Figure size 640x480 with 1 Axes>"
      ]
     },
     "metadata": {},
     "output_type": "display_data"
    }
   ],
   "source": [
    "file_paths = ['/Users/adampearl/Documents/191/Muon Experiment/muon_mass_calibration1_3_11_25/MassCalibration_data.txt','/Users/adampearl/Documents/191/Muon Experiment/muon_mass_calibration2_3_11_25/MassCalibration_data.txt', '/Users/adampearl/Documents/191/Muon Experiment/muon_mass_calibration3_3_11_25/MassCalibration_data.txt']\n",
    "raw_data = read_data(file_paths)\n",
    "# Create a mask that is True where data is not NaN\n",
    "mask = ~np.isnan(raw_data)\n",
    "\n",
    "# Use the mask to filter out NaNs\n",
    "data = raw_data[mask]\n",
    "num_bins = FreedmanDiaconis_bins(data)\n",
    "print(np.shape(data))\n",
    "\n",
    "plt.hist(data,bins = 60)\n",
    "plt.show()"
   ]
  },
  {
   "cell_type": "code",
   "execution_count": 25,
   "metadata": {},
   "outputs": [
    {
     "name": "stdout",
     "output_type": "stream",
     "text": [
      "There is at least one NaN value in the data.\n"
     ]
    }
   ],
   "source": [
    "if np.isnan(data).any():\n",
    "    print(\"There is at least one NaN value in the data.\")"
   ]
  },
  {
   "cell_type": "code",
   "execution_count": null,
   "metadata": {},
   "outputs": [],
   "source": []
  }
 ],
 "metadata": {
  "kernelspec": {
   "display_name": "Python 3",
   "language": "python",
   "name": "python3"
  },
  "language_info": {
   "codemirror_mode": {
    "name": "ipython",
    "version": 3
   },
   "file_extension": ".py",
   "mimetype": "text/x-python",
   "name": "python",
   "nbconvert_exporter": "python",
   "pygments_lexer": "ipython3",
   "version": "3.11.5"
  }
 },
 "nbformat": 4,
 "nbformat_minor": 2
}
