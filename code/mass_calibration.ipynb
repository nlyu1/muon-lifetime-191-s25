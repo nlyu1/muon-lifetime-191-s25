{
 "cells": [
  {
   "cell_type": "code",
   "execution_count": 2,
   "metadata": {},
   "outputs": [],
   "source": [
    "import numpy as np\n",
    "import matplotlib.pyplot as plt\n",
    "import pandas as pd"
   ]
  },
  {
   "cell_type": "code",
   "execution_count": 3,
   "metadata": {},
   "outputs": [],
   "source": [
    "def read_data(file_paths):\n",
    "    \"\"\"\n",
    "    Read data from multiple files and concatenate durations.\n",
    "    \n",
    "    Args:\n",
    "        file_paths: List of file paths to read data from\n",
    "        \n",
    "    Returns:\n",
    "        durations: Concatenated array of duration values\n",
    "    \"\"\"\n",
    "    all_durations = []\n",
    "    \n",
    "    for file_path in file_paths:\n",
    "        data = pd.read_csv(file_path, sep='\\t', header=None, names=['timestamps', 'durations'])\n",
    "        all_durations.append(data['durations'].values)\n",
    "    \n",
    "    return np.concatenate(all_durations)\n",
    "\n",
    "def FreedmanDiaconis_bins(data):\n",
    "    # Compute IQR\n",
    "    Q1 = np.percentile(data, 25)\n",
    "    Q3 = np.percentile(data, 75)\n",
    "    IQR = Q3 - Q1\n",
    "\n",
    "    # Freedman–Diaconis bin width\n",
    "    n = len(data)\n",
    "    bin_width = 2 * IQR / (n ** (1/3))\n",
    "\n",
    "    # Number of bins\n",
    "    num_bins = int((data.max() - data.min()) / bin_width)\n",
    "    num_bins = max(num_bins, 1)  # ensure at least 1 bin\n",
    "\n",
    "    print(f\"Computed bin width: {bin_width:.3f}\")\n",
    "    print(f\"Number of bins: {num_bins}\")\n",
    "\n",
    "    return num_bins"
   ]
  },
  {
   "cell_type": "code",
   "execution_count": 22,
   "metadata": {},
   "outputs": [
    {
     "name": "stdout",
     "output_type": "stream",
     "text": [
      "Max bin: 0.13 to 0.17 with count 12514\n",
      "Value 0.14933333333333332\n",
      "Error 0.0008340218787426182\n"
     ]
    },
    {
     "data": {
      "image/png": "[encoded data removed]",
      "text/plain": [
       "<Figure size 640x480 with 1 Axes>"
      ]
     },
     "metadata": {},
     "output_type": "display_data"
    }
   ],
   "source": [
    "file_paths = ['/Users/adampearl/Documents/191/Muon Experiment/muon_mass_calibration1_3_11_25/MassCalibration_data.txt','/Users/adampearl/Documents/191/Muon Experiment/muon_mass_calibration2_3_11_25/MassCalibration_data.txt', '/Users/adampearl/Documents/191/Muon Experiment/muon_mass_calibration3_3_11_25/MassCalibration_data.txt']\n",
    "\n",
    "raw_data = read_data(file_paths)\n",
    "mask = ~np.isnan(raw_data)\n",
    "data = raw_data[mask]\n",
    "\n",
    "num_bins = 60\n",
    "\n",
    "# Get histogram data without plotting\n",
    "counts, bin_edges = np.histogram(data, bins=num_bins)\n",
    "\n",
    "# Find the index of the bin with the highest count\n",
    "max_index = np.argmax(counts)\n",
    "max_count = counts[max_index]\n",
    "max_bin_start = bin_edges[max_index]\n",
    "max_bin_end = bin_edges[max_index + 1]\n",
    "\n",
    "print(f\"Max bin: {max_bin_start:.2f} to {max_bin_end:.2f} with count {max_count}\")\n",
    "print(f\"Value {(max_bin_end + max_bin_start)/2}\")\n",
    "print(f\"Error {np.std(data) / np.sqrt(len(data))}\")\n",
    "plt.axvline((max_bin_end + max_bin_start)/2, color = 'black' )\n",
    "# Plot the histogram\n",
    "plt.hist(data, bins=num_bins)\n",
    "plt.title(f'Highest bin: {max_bin_start:.2f} to {max_bin_end:.2f}')\n",
    "plt.show()"
   ]
  },
  {
   "cell_type": "code",
   "execution_count": 25,
   "metadata": {},
   "outputs": [
    {
     "name": "stdout",
     "output_type": "stream",
     "text": [
      "There is at least one NaN value in the data.\n"
     ]
    }
   ],
   "source": [
    "if np.isnan(data).any():\n",
    "    print(\"There is at least one NaN value in the data.\")"
   ]
  },
  {
   "cell_type": "code",
   "execution_count": 25,
   "metadata": {},
   "outputs": [
    {
     "data": {
      "text/plain": [
       "156.760272"
      ]
     },
     "execution_count": 25,
     "metadata": {},
     "output_type": "execute_result"
    }
   ],
   "source": [
    "2*(2.3/0.15)*(1.753*1.08*2.7)"
   ]
  },
  {
   "cell_type": "code",
   "execution_count": null,
   "metadata": {},
   "outputs": [
    {
     "data": {
      "text/plain": [
       "100.19026079999999"
      ]
     },
     "execution_count": 27,
     "metadata": {},
     "output_type": "execute_result"
    }
   ],
   "source": [
    "#conversion\n",
    "2*(0.98/0.1)*(1.753*1.08*2.7)"
   ]
  },
  {
   "cell_type": "code",
   "execution_count": 23,
   "metadata": {},
   "outputs": [
    {
     "name": "stdout",
     "output_type": "stream",
     "text": [
      "(972, 3)\n"
     ]
    }
   ],
   "source": [
    "#mass data\n",
    "file_path = '/Users/adampearl/Documents/191/GitHub/muon-lifetime-191-s25/raw_data/notTM_mass.txt'\n",
    "df = pd.read_csv(file_path, sep='\\t', header=None)\n",
    "df.columns = ['Time', 'Pulse', 'Lifetime']\n",
    "\n",
    "mask = ~np.isnan(df)\n",
    "df = df[mask]\n",
    "print(np.shape(df))\n",
    "\n"
   ]
  },
  {
   "cell_type": "code",
   "execution_count": 45,
   "metadata": {},
   "outputs": [
    {
     "data": {
      "image/png": "[encoded data removed]",
      "text/plain": [
       "<Figure size 640x480 with 1 Axes>"
      ]
     },
     "metadata": {},
     "output_type": "display_data"
    }
   ],
   "source": [
    "_ = plt.hist(df['Lifetime'] , log = True, bins = 60)"
   ]
  },
  {
   "cell_type": "code",
   "execution_count": 47,
   "metadata": {},
   "outputs": [
    {
     "data": {
      "text/plain": [
       "(array([ 33., 136., 158.,  90.,  89.,  59.,  27.,  28.,  17.,   9.,   5.,\n",
       "          8.,   0.,   1.,   1.,   4.,   5.,   1.,   3.,   1.,   2.,   0.,\n",
       "          0.,   0.,   1.,   1.,   3.,   1.,   3.,   0.,   2.,   2.,   1.,\n",
       "          2.,   1.,   0.,   0.,   0.,   2.,   0.,   0.,   0.,   1.,   1.,\n",
       "          0.,   0.,   1.,   0.,   0.,   0.,   1.,   0.,   0.,   0.,   1.,\n",
       "          0.,   0.,   0.,   0.,   1.]),\n",
       " array([0.04      , 0.07866667, 0.11733333, 0.156     , 0.19466667,\n",
       "        0.23333333, 0.272     , 0.31066667, 0.34933333, 0.388     ,\n",
       "        0.42666667, 0.46533333, 0.504     , 0.54266667, 0.58133333,\n",
       "        0.62      , 0.65866667, 0.69733333, 0.736     , 0.77466667,\n",
       "        0.81333333, 0.852     , 0.89066667, 0.92933333, 0.968     ,\n",
       "        1.00666667, 1.04533333, 1.084     , 1.12266667, 1.16133333,\n",
       "        1.2       , 1.23866667, 1.27733333, 1.316     , 1.35466667,\n",
       "        1.39333333, 1.432     , 1.47066667, 1.50933333, 1.548     ,\n",
       "        1.58666667, 1.62533333, 1.664     , 1.70266667, 1.74133333,\n",
       "        1.78      , 1.81866667, 1.85733333, 1.896     , 1.93466667,\n",
       "        1.97333333, 2.012     , 2.05066667, 2.08933333, 2.128     ,\n",
       "        2.16666667, 2.20533333, 2.244     , 2.28266667, 2.32133333,\n",
       "        2.36      ]),\n",
       " <BarContainer object of 60 artists>)"
      ]
     },
     "execution_count": 47,
     "metadata": {},
     "output_type": "execute_result"
    },
    {
     "data": {
      "image/png": "[encoded data removed]",
      "text/plain": [
       "<Figure size 640x480 with 2 Axes>"
      ]
     },
     "metadata": {},
     "output_type": "display_data"
    }
   ],
   "source": [
    "# filter bellow ten\n",
    "fig, ax = plt.subplots(1,2)\n",
    "filtered_df = df[df['Lifetime'] < 4]\n",
    "ax[0].hist(df['Pulse'], bins = 60)\n",
    "ax[1].hist(filtered_df['Pulse'], bins = 60)"
   ]
  }
 ],
 "metadata": {
  "kernelspec": {
   "display_name": "Python 3",
   "language": "python",
   "name": "python3"
  },
  "language_info": {
   "codemirror_mode": {
    "name": "ipython",
    "version": 3
   },
   "file_extension": ".py",
   "mimetype": "text/x-python",
   "name": "python",
   "nbconvert_exporter": "python",
   "pygments_lexer": "ipython3",
   "version": "3.11.5"
  }
 },
 "nbformat": 4,
 "nbformat_minor": 2
}
