{
 "cells": [
  {
   "cell_type": "code",
   "execution_count": null,
   "metadata": {},
   "outputs": [],
   "source": [
    "import numpy as np\n",
    "import matplotlib.pyplot as plt\n",
    "import pandas as pd"
   ]
  },
  {
   "cell_type": "code",
   "execution_count": null,
   "metadata": {},
   "outputs": [],
   "source": [
    "def read_data(file_paths):\n",
    "    \"\"\"\n",
    "    Read data from multiple files and concatenate durations.\n",
    "    \n",
    "    Args:\n",
    "        file_paths: List of file paths to read data from\n",
    "        \n",
    "    Returns:\n",
    "        durations: Concatenated array of duration values\n",
    "    \"\"\"\n",
    "    all_durations = []\n",
    "    \n",
    "    for file_path in file_paths:\n",
    "        data = pd.read_csv(file_path, sep='\\t', header=None, names=['timestamps', 'durations'])\n",
    "        all_durations.append(data['durations'].values)\n",
    "    \n",
    "    return np.concatenate(all_durations)"
   ]
  },
  {
   "cell_type": "code",
   "execution_count": null,
   "metadata": {},
   "outputs": [],
   "source": [
    "file_paths = []\n",
    "data = read_data(file_paths)\n",
    "mean = np.mean(file_paths)\n",
    "\n",
    "plt.plot(data)\n",
    "plt.axvline(mean, label =f'Mean = {mean:.2f}')\n"
   ]
  }
 ],
 "metadata": {
  "kernelspec": {
   "display_name": "Python 3",
   "language": "python",
   "name": "python3"
  },
  "language_info": {
   "name": "python",
   "version": "3.11.5"
  }
 },
 "nbformat": 4,
 "nbformat_minor": 2
}
