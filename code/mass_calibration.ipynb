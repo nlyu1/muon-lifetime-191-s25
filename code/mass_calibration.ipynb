{
 "cells": [
  {
   "cell_type": "code",
   "execution_count": 1,
   "metadata": {},
   "outputs": [],
   "source": [
    "import numpy as np\n",
    "import matplotlib.pyplot as plt\n",
    "import pandas as pd"
   ]
  },
  {
   "cell_type": "code",
   "execution_count": 2,
   "metadata": {},
   "outputs": [],
   "source": [
    "def read_data(file_paths):\n",
    "    \"\"\"\n",
    "    Read data from multiple files and concatenate durations.\n",
    "    \n",
    "    Args:\n",
    "        file_paths: List of file paths to read data from\n",
    "        \n",
    "    Returns:\n",
    "        durations: Concatenated array of duration values\n",
    "    \"\"\"\n",
    "    all_durations = []\n",
    "    \n",
    "    for file_path in file_paths:\n",
    "        data = pd.read_csv(file_path, sep='\\t', header=None, names=['timestamps', 'durations'])\n",
    "        all_durations.append(data['durations'].values)\n",
    "    \n",
    "    return np.concatenate(all_durations)\n",
    "\n",
    "def FreedmanDiaconis_bins(data):\n",
    "    # Compute IQR\n",
    "    Q1 = np.percentile(data, 25)\n",
    "    Q3 = np.percentile(data, 75)\n",
    "    IQR = Q3 - Q1\n",
    "\n",
    "    # Freedman–Diaconis bin width\n",
    "    n = len(data)\n",
    "    bin_width = 2 * IQR / (n ** (1/3))\n",
    "\n",
    "    # Number of bins\n",
    "    num_bins = int((data.max() - data.min()) / bin_width)\n",
    "    num_bins = max(num_bins, 1)  # ensure at least 1 bin\n",
    "\n",
    "    print(f\"Computed bin width: {bin_width:.3f}\")\n",
    "    print(f\"Number of bins: {num_bins}\")\n",
    "\n",
    "    return num_bins"
   ]
  },
  {
   "cell_type": "code",
   "execution_count": 22,
   "metadata": {},
   "outputs": [
    {
     "name": "stdout",
     "output_type": "stream",
     "text": [
      "Max bin: 0.13 to 0.17 with count 12514\n",
      "Value 0.14933333333333332\n",
      "Error 0.0008340218787426182\n"
     ]
    },
    {
     "data": {
      "image/png": "[encoded data removed]",
      "text/plain": [
       "<Figure size 640x480 with 1 Axes>"
      ]
     },
     "metadata": {},
     "output_type": "display_data"
    }
   ],
   "source": [
    "file_paths = ['/Users/adampearl/Documents/191/Muon Experiment/muon_mass_calibration1_3_11_25/MassCalibration_data.txt','/Users/adampearl/Documents/191/Muon Experiment/muon_mass_calibration2_3_11_25/MassCalibration_data.txt', '/Users/adampearl/Documents/191/Muon Experiment/muon_mass_calibration3_3_11_25/MassCalibration_data.txt']\n",
    "\n",
    "raw_data = read_data(file_paths)\n",
    "mask = ~np.isnan(raw_data)\n",
    "data = raw_data[mask]\n",
    "\n",
    "num_bins = 60\n",
    "\n",
    "# Get histogram data without plotting\n",
    "counts, bin_edges = np.histogram(data, bins=num_bins)\n",
    "\n",
    "# Find the index of the bin with the highest count\n",
    "max_index = np.argmax(counts)\n",
    "max_count = counts[max_index]\n",
    "max_bin_start = bin_edges[max_index]\n",
    "max_bin_end = bin_edges[max_index + 1]\n",
    "\n",
    "print(f\"Max bin: {max_bin_start:.2f} to {max_bin_end:.2f} with count {max_count}\")\n",
    "print(f\"Value {(max_bin_end + max_bin_start)/2}\")\n",
    "print(f\"Error {np.std(data) / np.sqrt(len(data))}\")\n",
    "plt.axvline((max_bin_end + max_bin_start)/2, color = 'black' )\n",
    "# Plot the histogram\n",
    "plt.hist(data, bins=num_bins)\n",
    "plt.title(f'Highest bin: {max_bin_start:.2f} to {max_bin_end:.2f}')\n",
    "plt.show()"
   ]
  },
  {
   "cell_type": "code",
   "execution_count": 25,
   "metadata": {},
   "outputs": [
    {
     "name": "stdout",
     "output_type": "stream",
     "text": [
      "There is at least one NaN value in the data.\n"
     ]
    }
   ],
   "source": [
    "if np.isnan(data).any():\n",
    "    print(\"There is at least one NaN value in the data.\")"
   ]
  },
  {
   "cell_type": "code",
   "execution_count": 25,
   "metadata": {},
   "outputs": [
    {
     "data": {
      "text/plain": [
       "156.760272"
      ]
     },
     "execution_count": 25,
     "metadata": {},
     "output_type": "execute_result"
    }
   ],
   "source": [
    "2*(2.3/0.15)*(1.753*1.08*2.7)"
   ]
  },
  {
   "cell_type": "code",
   "execution_count": null,
   "metadata": {},
   "outputs": [
    {
     "data": {
      "text/plain": [
       "100.19026079999999"
      ]
     },
     "execution_count": 27,
     "metadata": {},
     "output_type": "execute_result"
    }
   ],
   "source": [
    "2*(0.98/0.1)*(1.753*1.08*2.7)"
   ]
  },
  {
   "cell_type": "code",
   "execution_count": null,
   "metadata": {},
   "outputs": [],
   "source": []
  }
 ],
 "metadata": {
  "kernelspec": {
   "display_name": "Python 3",
   "language": "python",
   "name": "python3"
  },
  "language_info": {
   "codemirror_mode": {
    "name": "ipython",
    "version": 3
   },
   "file_extension": ".py",
   "mimetype": "text/x-python",
   "name": "python",
   "nbconvert_exporter": "python",
   "pygments_lexer": "ipython3",
   "version": "3.11.5"
  }
 },
 "nbformat": 4,
 "nbformat_minor": 2
}
